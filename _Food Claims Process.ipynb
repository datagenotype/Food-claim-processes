{
 "cells": [
  {
   "cell_type": "markdown",
   "id": "77db65a5",
   "metadata": {},
   "source": [
    "## Case Study Project - Food Claims Process\n",
    "## Table of Contents\n",
    "<ul>\n",
    "<li><a href=\"#intro\">Introduction</a></li>\n",
    "<li><a href=\"#wrangling\">Data Wrangling</a></li>\n",
    "<li><a href=\"#eda\">Exploratory Data Analysis</a></li>\n",
    "<li><a href=\"#conclusions\">Conclusions</a></li>\n",
    "</ul>"
   ]
  },
  {
   "cell_type": "markdown",
   "id": "818f9d9d",
   "metadata": {},
   "source": [
    "## Introduction\n",
    "Vivendo is a fast food chain in Brazil with over 200 outlets. As with many fast food establishments, customers make claims against the company.For example, they blame Vivendo for suspected food poisoning.The legal team, who processes these claims,is currently split across four locations. The dataset for this case study comprises of 8 columns and 98 rows"
   ]
  },
  {
   "cell_type": "markdown",
   "id": "6f8f4e6a",
   "metadata": {},
   "source": [
    "# Questions to be answered for the analysis are as follows:\n",
    "> ● How does the number of claims differ across locations?\n",
    "> ● What is the distribution of time to close claims?\n",
    "> ● How does the average time to close claims differ by location?"
   ]
  },
  {
   "cell_type": "code",
   "execution_count": 1,
   "id": "3d8e372c",
   "metadata": {},
   "outputs": [],
   "source": [
    "import numpy as np\n",
    "import pandas as pd\n",
    "from matplotlib import pyplot as plt\n",
    "import seaborn as sns\n",
    "%matplotlib inline"
   ]
  },
  {
   "cell_type": "markdown",
   "id": "9acbc984",
   "metadata": {},
   "source": [
    "# Data Wrangling"
   ]
  },
  {
   "cell_type": "code",
   "execution_count": 2,
   "id": "af0113e1",
   "metadata": {},
   "outputs": [],
   "source": [
    "df = pd.read_csv('C:\\\\Users\\\\sodiq\\\\Downloads\\\\claims.csv')"
   ]
  },
  {
   "cell_type": "code",
   "execution_count": 3,
   "id": "6ae9ec36",
   "metadata": {},
   "outputs": [
    {
     "data": {
      "text/html": [
       "<div>\n",
       "<style scoped>\n",
       "    .dataframe tbody tr th:only-of-type {\n",
       "        vertical-align: middle;\n",
       "    }\n",
       "\n",
       "    .dataframe tbody tr th {\n",
       "        vertical-align: top;\n",
       "    }\n",
       "\n",
       "    .dataframe thead th {\n",
       "        text-align: right;\n",
       "    }\n",
       "</style>\n",
       "<table border=\"1\" class=\"dataframe\">\n",
       "  <thead>\n",
       "    <tr style=\"text-align: right;\">\n",
       "      <th></th>\n",
       "      <th>Claim ID</th>\n",
       "      <th>Time to Close</th>\n",
       "      <th>Claim Amount</th>\n",
       "      <th>Amount Paid</th>\n",
       "      <th>Location</th>\n",
       "      <th>Individuals on Claim</th>\n",
       "      <th>Linked Cases</th>\n",
       "      <th>Cause</th>\n",
       "    </tr>\n",
       "  </thead>\n",
       "  <tbody>\n",
       "    <tr>\n",
       "      <th>0</th>\n",
       "      <td>0000000-00.2010.0.00.0094</td>\n",
       "      <td>2082</td>\n",
       "      <td>R$50,000.00</td>\n",
       "      <td>34297.47</td>\n",
       "      <td>RECIFE</td>\n",
       "      <td>2</td>\n",
       "      <td>False</td>\n",
       "      <td>NaN</td>\n",
       "    </tr>\n",
       "    <tr>\n",
       "      <th>1</th>\n",
       "      <td>0000000-00.2011.0.00.0086</td>\n",
       "      <td>3591</td>\n",
       "      <td>R$180,000.00</td>\n",
       "      <td>56383.54</td>\n",
       "      <td>SAO LUIS</td>\n",
       "      <td>7</td>\n",
       "      <td>False</td>\n",
       "      <td>NaN</td>\n",
       "    </tr>\n",
       "    <tr>\n",
       "      <th>2</th>\n",
       "      <td>0000000-00.2012.0.00.0092</td>\n",
       "      <td>2997</td>\n",
       "      <td>R$70,000.00</td>\n",
       "      <td>12366.76</td>\n",
       "      <td>SAO LUIS</td>\n",
       "      <td>3</td>\n",
       "      <td>False</td>\n",
       "      <td>vegetables</td>\n",
       "    </tr>\n",
       "    <tr>\n",
       "      <th>3</th>\n",
       "      <td>0000000-00.2013.0.00.0096</td>\n",
       "      <td>1143</td>\n",
       "      <td>R$95,104.00</td>\n",
       "      <td>29217.16</td>\n",
       "      <td>FORTALEZA</td>\n",
       "      <td>4</td>\n",
       "      <td>False</td>\n",
       "      <td>NaN</td>\n",
       "    </tr>\n",
       "    <tr>\n",
       "      <th>4</th>\n",
       "      <td>0000000-00.2014.0.00.0097</td>\n",
       "      <td>117</td>\n",
       "      <td>R$29,000.00</td>\n",
       "      <td>12610.50</td>\n",
       "      <td>FORTALEZA</td>\n",
       "      <td>1</td>\n",
       "      <td>False</td>\n",
       "      <td>meat</td>\n",
       "    </tr>\n",
       "  </tbody>\n",
       "</table>\n",
       "</div>"
      ],
      "text/plain": [
       "                    Claim ID  Time to Close  Claim Amount  Amount Paid  \\\n",
       "0  0000000-00.2010.0.00.0094           2082   R$50,000.00     34297.47   \n",
       "1  0000000-00.2011.0.00.0086           3591  R$180,000.00     56383.54   \n",
       "2  0000000-00.2012.0.00.0092           2997   R$70,000.00     12366.76   \n",
       "3  0000000-00.2013.0.00.0096           1143   R$95,104.00     29217.16   \n",
       "4  0000000-00.2014.0.00.0097            117   R$29,000.00     12610.50   \n",
       "\n",
       "    Location  Individuals on Claim  Linked Cases       Cause  \n",
       "0     RECIFE                     2         False         NaN  \n",
       "1   SAO LUIS                     7         False         NaN  \n",
       "2   SAO LUIS                     3         False  vegetables  \n",
       "3  FORTALEZA                     4         False         NaN  \n",
       "4  FORTALEZA                     1         False        meat  "
      ]
     },
     "execution_count": 3,
     "metadata": {},
     "output_type": "execute_result"
    }
   ],
   "source": [
    "df.head()"
   ]
  },
  {
   "cell_type": "code",
   "execution_count": 6,
   "id": "cf09710c",
   "metadata": {},
   "outputs": [
    {
     "data": {
      "text/plain": [
       "(98, 8)"
      ]
     },
     "execution_count": 6,
     "metadata": {},
     "output_type": "execute_result"
    }
   ],
   "source": [
    "#Checking the number or rows and columns in the dataset\n",
    "df.shape"
   ]
  },
  {
   "cell_type": "code",
   "execution_count": 7,
   "id": "73802454",
   "metadata": {},
   "outputs": [
    {
     "data": {
      "text/plain": [
       "0"
      ]
     },
     "execution_count": 7,
     "metadata": {},
     "output_type": "execute_result"
    }
   ],
   "source": [
    "#Checking if the dataset has duplicates\n",
    "sum(df.duplicated())"
   ]
  },
  {
   "cell_type": "code",
   "execution_count": 4,
   "id": "11c24a14",
   "metadata": {},
   "outputs": [
    {
     "data": {
      "text/html": [
       "<div>\n",
       "<style scoped>\n",
       "    .dataframe tbody tr th:only-of-type {\n",
       "        vertical-align: middle;\n",
       "    }\n",
       "\n",
       "    .dataframe tbody tr th {\n",
       "        vertical-align: top;\n",
       "    }\n",
       "\n",
       "    .dataframe thead th {\n",
       "        text-align: right;\n",
       "    }\n",
       "</style>\n",
       "<table border=\"1\" class=\"dataframe\">\n",
       "  <thead>\n",
       "    <tr style=\"text-align: right;\">\n",
       "      <th></th>\n",
       "      <th>Time to Close</th>\n",
       "      <th>Amount Paid</th>\n",
       "      <th>Individuals on Claim</th>\n",
       "    </tr>\n",
       "  </thead>\n",
       "  <tbody>\n",
       "    <tr>\n",
       "      <th>count</th>\n",
       "      <td>98.000000</td>\n",
       "      <td>98.000000</td>\n",
       "      <td>98.000000</td>\n",
       "    </tr>\n",
       "    <tr>\n",
       "      <th>mean</th>\n",
       "      <td>832.346939</td>\n",
       "      <td>58448.238571</td>\n",
       "      <td>4.908163</td>\n",
       "    </tr>\n",
       "    <tr>\n",
       "      <th>std</th>\n",
       "      <td>686.851131</td>\n",
       "      <td>87525.873849</td>\n",
       "      <td>7.292259</td>\n",
       "    </tr>\n",
       "    <tr>\n",
       "      <th>min</th>\n",
       "      <td>-57.000000</td>\n",
       "      <td>999.680000</td>\n",
       "      <td>0.000000</td>\n",
       "    </tr>\n",
       "    <tr>\n",
       "      <th>25%</th>\n",
       "      <td>340.750000</td>\n",
       "      <td>15965.642500</td>\n",
       "      <td>1.000000</td>\n",
       "    </tr>\n",
       "    <tr>\n",
       "      <th>50%</th>\n",
       "      <td>638.500000</td>\n",
       "      <td>29451.040000</td>\n",
       "      <td>2.000000</td>\n",
       "    </tr>\n",
       "    <tr>\n",
       "      <th>75%</th>\n",
       "      <td>1138.750000</td>\n",
       "      <td>52114.760000</td>\n",
       "      <td>5.750000</td>\n",
       "    </tr>\n",
       "    <tr>\n",
       "      <th>max</th>\n",
       "      <td>3591.000000</td>\n",
       "      <td>558725.770000</td>\n",
       "      <td>41.000000</td>\n",
       "    </tr>\n",
       "  </tbody>\n",
       "</table>\n",
       "</div>"
      ],
      "text/plain": [
       "       Time to Close    Amount Paid  Individuals on Claim\n",
       "count      98.000000      98.000000             98.000000\n",
       "mean      832.346939   58448.238571              4.908163\n",
       "std       686.851131   87525.873849              7.292259\n",
       "min       -57.000000     999.680000              0.000000\n",
       "25%       340.750000   15965.642500              1.000000\n",
       "50%       638.500000   29451.040000              2.000000\n",
       "75%      1138.750000   52114.760000              5.750000\n",
       "max      3591.000000  558725.770000             41.000000"
      ]
     },
     "execution_count": 4,
     "metadata": {},
     "output_type": "execute_result"
    }
   ],
   "source": [
    "#checking the distribution of the data\n",
    "df.describe()"
   ]
  },
  {
   "cell_type": "code",
   "execution_count": 5,
   "id": "84c714c1",
   "metadata": {},
   "outputs": [
    {
     "data": {
      "text/plain": [
       "Claim ID                 object\n",
       "Time to Close             int64\n",
       "Claim Amount             object\n",
       "Amount Paid             float64\n",
       "Location                 object\n",
       "Individuals on Claim      int64\n",
       "Linked Cases               bool\n",
       "Cause                    object\n",
       "dtype: object"
      ]
     },
     "execution_count": 5,
     "metadata": {},
     "output_type": "execute_result"
    }
   ],
   "source": [
    "#showing the types of the dataset\n",
    "df.dtypes"
   ]
  },
  {
   "cell_type": "markdown",
   "id": "16efa042",
   "metadata": {},
   "source": [
    "It can be observed that two columns from the dataset need to be cleaned. The columns are claim amount and Cause which will have to replace NAN with 'UNKNOWN'"
   ]
  },
  {
   "cell_type": "code",
   "execution_count": 6,
   "id": "6bbd5ba4",
   "metadata": {},
   "outputs": [],
   "source": [
    "df['Cause']=df.Cause.replace(np.nan,'UNKNOWN')"
   ]
  },
  {
   "cell_type": "code",
   "execution_count": 7,
   "id": "eb23502c",
   "metadata": {},
   "outputs": [
    {
     "data": {
      "text/html": [
       "<div>\n",
       "<style scoped>\n",
       "    .dataframe tbody tr th:only-of-type {\n",
       "        vertical-align: middle;\n",
       "    }\n",
       "\n",
       "    .dataframe tbody tr th {\n",
       "        vertical-align: top;\n",
       "    }\n",
       "\n",
       "    .dataframe thead th {\n",
       "        text-align: right;\n",
       "    }\n",
       "</style>\n",
       "<table border=\"1\" class=\"dataframe\">\n",
       "  <thead>\n",
       "    <tr style=\"text-align: right;\">\n",
       "      <th></th>\n",
       "      <th>Claim ID</th>\n",
       "      <th>Time to Close</th>\n",
       "      <th>Claim Amount</th>\n",
       "      <th>Amount Paid</th>\n",
       "      <th>Location</th>\n",
       "      <th>Individuals on Claim</th>\n",
       "      <th>Linked Cases</th>\n",
       "      <th>Cause</th>\n",
       "    </tr>\n",
       "  </thead>\n",
       "  <tbody>\n",
       "    <tr>\n",
       "      <th>0</th>\n",
       "      <td>0000000-00.2010.0.00.0094</td>\n",
       "      <td>2082</td>\n",
       "      <td>R$50,000.00</td>\n",
       "      <td>34297.47</td>\n",
       "      <td>RECIFE</td>\n",
       "      <td>2</td>\n",
       "      <td>False</td>\n",
       "      <td>UNKNOWN</td>\n",
       "    </tr>\n",
       "    <tr>\n",
       "      <th>1</th>\n",
       "      <td>0000000-00.2011.0.00.0086</td>\n",
       "      <td>3591</td>\n",
       "      <td>R$180,000.00</td>\n",
       "      <td>56383.54</td>\n",
       "      <td>SAO LUIS</td>\n",
       "      <td>7</td>\n",
       "      <td>False</td>\n",
       "      <td>UNKNOWN</td>\n",
       "    </tr>\n",
       "    <tr>\n",
       "      <th>2</th>\n",
       "      <td>0000000-00.2012.0.00.0092</td>\n",
       "      <td>2997</td>\n",
       "      <td>R$70,000.00</td>\n",
       "      <td>12366.76</td>\n",
       "      <td>SAO LUIS</td>\n",
       "      <td>3</td>\n",
       "      <td>False</td>\n",
       "      <td>vegetables</td>\n",
       "    </tr>\n",
       "    <tr>\n",
       "      <th>3</th>\n",
       "      <td>0000000-00.2013.0.00.0096</td>\n",
       "      <td>1143</td>\n",
       "      <td>R$95,104.00</td>\n",
       "      <td>29217.16</td>\n",
       "      <td>FORTALEZA</td>\n",
       "      <td>4</td>\n",
       "      <td>False</td>\n",
       "      <td>UNKNOWN</td>\n",
       "    </tr>\n",
       "    <tr>\n",
       "      <th>4</th>\n",
       "      <td>0000000-00.2014.0.00.0097</td>\n",
       "      <td>117</td>\n",
       "      <td>R$29,000.00</td>\n",
       "      <td>12610.50</td>\n",
       "      <td>FORTALEZA</td>\n",
       "      <td>1</td>\n",
       "      <td>False</td>\n",
       "      <td>meat</td>\n",
       "    </tr>\n",
       "  </tbody>\n",
       "</table>\n",
       "</div>"
      ],
      "text/plain": [
       "                    Claim ID  Time to Close  Claim Amount  Amount Paid  \\\n",
       "0  0000000-00.2010.0.00.0094           2082   R$50,000.00     34297.47   \n",
       "1  0000000-00.2011.0.00.0086           3591  R$180,000.00     56383.54   \n",
       "2  0000000-00.2012.0.00.0092           2997   R$70,000.00     12366.76   \n",
       "3  0000000-00.2013.0.00.0096           1143   R$95,104.00     29217.16   \n",
       "4  0000000-00.2014.0.00.0097            117   R$29,000.00     12610.50   \n",
       "\n",
       "    Location  Individuals on Claim  Linked Cases       Cause  \n",
       "0     RECIFE                     2         False     UNKNOWN  \n",
       "1   SAO LUIS                     7         False     UNKNOWN  \n",
       "2   SAO LUIS                     3         False  vegetables  \n",
       "3  FORTALEZA                     4         False     UNKNOWN  \n",
       "4  FORTALEZA                     1         False        meat  "
      ]
     },
     "execution_count": 7,
     "metadata": {},
     "output_type": "execute_result"
    }
   ],
   "source": [
    "df.head()"
   ]
  },
  {
   "cell_type": "markdown",
   "id": "8b599b6c",
   "metadata": {},
   "source": [
    "From the above table, It can be seen that NAN has been replaced with 'UNKNOWN'"
   ]
  },
  {
   "cell_type": "code",
   "execution_count": 8,
   "id": "f97528e4",
   "metadata": {},
   "outputs": [
    {
     "data": {
      "text/html": [
       "<div>\n",
       "<style scoped>\n",
       "    .dataframe tbody tr th:only-of-type {\n",
       "        vertical-align: middle;\n",
       "    }\n",
       "\n",
       "    .dataframe tbody tr th {\n",
       "        vertical-align: top;\n",
       "    }\n",
       "\n",
       "    .dataframe thead th {\n",
       "        text-align: right;\n",
       "    }\n",
       "</style>\n",
       "<table border=\"1\" class=\"dataframe\">\n",
       "  <thead>\n",
       "    <tr style=\"text-align: right;\">\n",
       "      <th></th>\n",
       "      <th>Claim ID</th>\n",
       "      <th>Time to Close</th>\n",
       "      <th>Claim Amount</th>\n",
       "      <th>Amount Paid</th>\n",
       "      <th>Location</th>\n",
       "      <th>Individuals on Claim</th>\n",
       "      <th>Linked Cases</th>\n",
       "      <th>Cause</th>\n",
       "    </tr>\n",
       "  </thead>\n",
       "  <tbody>\n",
       "    <tr>\n",
       "      <th>0</th>\n",
       "      <td>0000000-00.2010.0.00.0094</td>\n",
       "      <td>2082</td>\n",
       "      <td>50000.00</td>\n",
       "      <td>34297.47</td>\n",
       "      <td>RECIFE</td>\n",
       "      <td>2</td>\n",
       "      <td>False</td>\n",
       "      <td>UNKNOWN</td>\n",
       "    </tr>\n",
       "    <tr>\n",
       "      <th>1</th>\n",
       "      <td>0000000-00.2011.0.00.0086</td>\n",
       "      <td>3591</td>\n",
       "      <td>180000.00</td>\n",
       "      <td>56383.54</td>\n",
       "      <td>SAO LUIS</td>\n",
       "      <td>7</td>\n",
       "      <td>False</td>\n",
       "      <td>UNKNOWN</td>\n",
       "    </tr>\n",
       "    <tr>\n",
       "      <th>2</th>\n",
       "      <td>0000000-00.2012.0.00.0092</td>\n",
       "      <td>2997</td>\n",
       "      <td>70000.00</td>\n",
       "      <td>12366.76</td>\n",
       "      <td>SAO LUIS</td>\n",
       "      <td>3</td>\n",
       "      <td>False</td>\n",
       "      <td>vegetables</td>\n",
       "    </tr>\n",
       "    <tr>\n",
       "      <th>3</th>\n",
       "      <td>0000000-00.2013.0.00.0096</td>\n",
       "      <td>1143</td>\n",
       "      <td>95104.00</td>\n",
       "      <td>29217.16</td>\n",
       "      <td>FORTALEZA</td>\n",
       "      <td>4</td>\n",
       "      <td>False</td>\n",
       "      <td>UNKNOWN</td>\n",
       "    </tr>\n",
       "    <tr>\n",
       "      <th>4</th>\n",
       "      <td>0000000-00.2014.0.00.0097</td>\n",
       "      <td>117</td>\n",
       "      <td>29000.00</td>\n",
       "      <td>12610.50</td>\n",
       "      <td>FORTALEZA</td>\n",
       "      <td>1</td>\n",
       "      <td>False</td>\n",
       "      <td>meat</td>\n",
       "    </tr>\n",
       "  </tbody>\n",
       "</table>\n",
       "</div>"
      ],
      "text/plain": [
       "                    Claim ID  Time to Close Claim Amount  Amount Paid  \\\n",
       "0  0000000-00.2010.0.00.0094           2082     50000.00     34297.47   \n",
       "1  0000000-00.2011.0.00.0086           3591    180000.00     56383.54   \n",
       "2  0000000-00.2012.0.00.0092           2997     70000.00     12366.76   \n",
       "3  0000000-00.2013.0.00.0096           1143     95104.00     29217.16   \n",
       "4  0000000-00.2014.0.00.0097            117     29000.00     12610.50   \n",
       "\n",
       "    Location  Individuals on Claim  Linked Cases       Cause  \n",
       "0     RECIFE                     2         False     UNKNOWN  \n",
       "1   SAO LUIS                     7         False     UNKNOWN  \n",
       "2   SAO LUIS                     3         False  vegetables  \n",
       "3  FORTALEZA                     4         False     UNKNOWN  \n",
       "4  FORTALEZA                     1         False        meat  "
      ]
     },
     "execution_count": 8,
     "metadata": {},
     "output_type": "execute_result"
    }
   ],
   "source": [
    "df['Claim Amount'] = df['Claim Amount'].apply(lambda x: x.replace(',','').replace('R$',''))\n",
    "\n",
    "df.head()"
   ]
  },
  {
   "cell_type": "markdown",
   "id": "a1b4b4cb",
   "metadata": {},
   "source": [
    "The unnecessary charcaters have been removed from the Claim Amount column"
   ]
  },
  {
   "cell_type": "code",
   "execution_count": 9,
   "id": "50c1544f",
   "metadata": {},
   "outputs": [
    {
     "data": {
      "text/plain": [
       "Claim ID                 object\n",
       "Time to Close             int64\n",
       "Claim Amount             object\n",
       "Amount Paid             float64\n",
       "Location                 object\n",
       "Individuals on Claim      int64\n",
       "Linked Cases               bool\n",
       "Cause                    object\n",
       "dtype: object"
      ]
     },
     "execution_count": 9,
     "metadata": {},
     "output_type": "execute_result"
    }
   ],
   "source": [
    "df.dtypes"
   ]
  },
  {
   "cell_type": "code",
   "execution_count": 10,
   "id": "dc149dde",
   "metadata": {},
   "outputs": [],
   "source": [
    "#converting to float data type\n",
    "df['Claim Amount'] = df['Claim Amount'].astype('float')"
   ]
  },
  {
   "cell_type": "code",
   "execution_count": 11,
   "id": "f63d6e79",
   "metadata": {},
   "outputs": [
    {
     "data": {
      "text/html": [
       "<div>\n",
       "<style scoped>\n",
       "    .dataframe tbody tr th:only-of-type {\n",
       "        vertical-align: middle;\n",
       "    }\n",
       "\n",
       "    .dataframe tbody tr th {\n",
       "        vertical-align: top;\n",
       "    }\n",
       "\n",
       "    .dataframe thead th {\n",
       "        text-align: right;\n",
       "    }\n",
       "</style>\n",
       "<table border=\"1\" class=\"dataframe\">\n",
       "  <thead>\n",
       "    <tr style=\"text-align: right;\">\n",
       "      <th></th>\n",
       "      <th>Claim ID</th>\n",
       "      <th>Time to Close</th>\n",
       "      <th>Claim Amount</th>\n",
       "      <th>Amount Paid</th>\n",
       "      <th>Location</th>\n",
       "      <th>Individuals on Claim</th>\n",
       "      <th>Linked Cases</th>\n",
       "      <th>Cause</th>\n",
       "    </tr>\n",
       "  </thead>\n",
       "  <tbody>\n",
       "    <tr>\n",
       "      <th>0</th>\n",
       "      <td>0000000-00.2010.0.00.0094</td>\n",
       "      <td>2082</td>\n",
       "      <td>50000.0</td>\n",
       "      <td>34297.47</td>\n",
       "      <td>RECIFE</td>\n",
       "      <td>2</td>\n",
       "      <td>False</td>\n",
       "      <td>UNKNOWN</td>\n",
       "    </tr>\n",
       "    <tr>\n",
       "      <th>1</th>\n",
       "      <td>0000000-00.2011.0.00.0086</td>\n",
       "      <td>3591</td>\n",
       "      <td>180000.0</td>\n",
       "      <td>56383.54</td>\n",
       "      <td>SAO LUIS</td>\n",
       "      <td>7</td>\n",
       "      <td>False</td>\n",
       "      <td>UNKNOWN</td>\n",
       "    </tr>\n",
       "    <tr>\n",
       "      <th>2</th>\n",
       "      <td>0000000-00.2012.0.00.0092</td>\n",
       "      <td>2997</td>\n",
       "      <td>70000.0</td>\n",
       "      <td>12366.76</td>\n",
       "      <td>SAO LUIS</td>\n",
       "      <td>3</td>\n",
       "      <td>False</td>\n",
       "      <td>vegetables</td>\n",
       "    </tr>\n",
       "    <tr>\n",
       "      <th>3</th>\n",
       "      <td>0000000-00.2013.0.00.0096</td>\n",
       "      <td>1143</td>\n",
       "      <td>95104.0</td>\n",
       "      <td>29217.16</td>\n",
       "      <td>FORTALEZA</td>\n",
       "      <td>4</td>\n",
       "      <td>False</td>\n",
       "      <td>UNKNOWN</td>\n",
       "    </tr>\n",
       "    <tr>\n",
       "      <th>4</th>\n",
       "      <td>0000000-00.2014.0.00.0097</td>\n",
       "      <td>117</td>\n",
       "      <td>29000.0</td>\n",
       "      <td>12610.50</td>\n",
       "      <td>FORTALEZA</td>\n",
       "      <td>1</td>\n",
       "      <td>False</td>\n",
       "      <td>meat</td>\n",
       "    </tr>\n",
       "  </tbody>\n",
       "</table>\n",
       "</div>"
      ],
      "text/plain": [
       "                    Claim ID  Time to Close  Claim Amount  Amount Paid  \\\n",
       "0  0000000-00.2010.0.00.0094           2082       50000.0     34297.47   \n",
       "1  0000000-00.2011.0.00.0086           3591      180000.0     56383.54   \n",
       "2  0000000-00.2012.0.00.0092           2997       70000.0     12366.76   \n",
       "3  0000000-00.2013.0.00.0096           1143       95104.0     29217.16   \n",
       "4  0000000-00.2014.0.00.0097            117       29000.0     12610.50   \n",
       "\n",
       "    Location  Individuals on Claim  Linked Cases       Cause  \n",
       "0     RECIFE                     2         False     UNKNOWN  \n",
       "1   SAO LUIS                     7         False     UNKNOWN  \n",
       "2   SAO LUIS                     3         False  vegetables  \n",
       "3  FORTALEZA                     4         False     UNKNOWN  \n",
       "4  FORTALEZA                     1         False        meat  "
      ]
     },
     "execution_count": 11,
     "metadata": {},
     "output_type": "execute_result"
    }
   ],
   "source": [
    "df.head()"
   ]
  },
  {
   "cell_type": "markdown",
   "id": "3ab806fb",
   "metadata": {},
   "source": [
    "# Exploratory Data Analysis"
   ]
  },
  {
   "cell_type": "markdown",
   "id": "1bfdea37",
   "metadata": {},
   "source": [
    "## How does the number of claims differ across locations?"
   ]
  },
  {
   "cell_type": "code",
   "execution_count": 12,
   "id": "41db059c",
   "metadata": {},
   "outputs": [
    {
     "data": {
      "text/plain": [
       "SAO LUIS     30\n",
       "RECIFE       25\n",
       "FORTALEZA    22\n",
       "NATAL        21\n",
       "Name: Location, dtype: int64"
      ]
     },
     "execution_count": 12,
     "metadata": {},
     "output_type": "execute_result"
    }
   ],
   "source": [
    "df.Location.value_counts()"
   ]
  },
  {
   "cell_type": "code",
   "execution_count": 24,
   "id": "d23f878c",
   "metadata": {},
   "outputs": [
    {
     "data": {
      "image/png": "[encoded data removed]",
      "text/plain": [
       "<Figure size 1008x432 with 1 Axes>"
      ]
     },
     "metadata": {
      "needs_background": "light"
     },
     "output_type": "display_data"
    }
   ],
   "source": [
    "df.Location.value_counts()\n",
    "df.Location.value_counts().plot(kind='bar',figsize=[14,6])\n",
    "plt.xticks(rotation = 45);"
   ]
  },
  {
   "cell_type": "markdown",
   "id": "eb52cde7",
   "metadata": {},
   "source": [
    "It can be deduced from the above bar chart that SAO LUIS and NATAL have the highest and lowest claims respectively."
   ]
  },
  {
   "cell_type": "markdown",
   "id": "59a6cfbf",
   "metadata": {},
   "source": [
    "# What is the distribution of time to close claims?"
   ]
  },
  {
   "cell_type": "code",
   "execution_count": 23,
   "id": "ff351d9a",
   "metadata": {},
   "outputs": [
    {
     "data": {
      "text/plain": [
       "<AxesSubplot:>"
      ]
     },
     "execution_count": 23,
     "metadata": {},
     "output_type": "execute_result"
    },
    {
     "data": {
      "image/png": "[encoded data removed]",
      "text/plain": [
       "<Figure size 1008x432 with 1 Axes>"
      ]
     },
     "metadata": {
      "needs_background": "light"
     },
     "output_type": "display_data"
    }
   ],
   "source": [
    "df['Time to Close' ].hist(bins= 15, figsize=[14,6])"
   ]
  },
  {
   "cell_type": "markdown",
   "id": "efdb1b1f",
   "metadata": {},
   "source": [
    "The distribution of time to close is right skewed which means the mean is greater than the median and the mode as well. It is also observed that most claim takes 500 days to close."
   ]
  },
  {
   "cell_type": "markdown",
   "id": "3d276b0d",
   "metadata": {},
   "source": [
    "# How does the average time to close claims differ by location?"
   ]
  },
  {
   "cell_type": "code",
   "execution_count": 21,
   "id": "31c963ee",
   "metadata": {},
   "outputs": [],
   "source": [
    "def myGrpPlot(df,grpvar,yvar,stat='mean'):\n",
    "    '''\n",
    "    docstring: IMPORTANT explain function here\n",
    "    inputs: ...\n",
    "    output:...\n",
    "    '''\n",
    "    #plot\n",
    "    df.groupby([grpvar])[yvar].agg(stat).plot.bar(edgecolor='black',figsize=[14,6],rot=0,width=0.8);\n",
    "    #tidying up labels\n",
    "    grpvar= grpvar.replace('_','') #replacing _ with a space\n",
    "    yvar=yvar.replace('_','') #replacing _ with a space\n",
    "    #adding title and formating it\n",
    "    plt.title(f'{stat} of {yvar} by {grpvar}'.title(),fontsize=14,weight='bold')\n",
    "    #adding x label and formating it\n",
    "    plt.xlabel(grpvar.title(),fontsize=10,weight='bold')\n",
    "    #adding y label and formating it\n",
    "    plt.ylabel(f'{stat} {yvar}'.title(),fontsize=10,weight='bold')"
   ]
  },
  {
   "cell_type": "code",
   "execution_count": 22,
   "id": "dce23194",
   "metadata": {},
   "outputs": [
    {
     "data": {
      "image/png": "[encoded data removed]",
      "text/plain": [
       "<Figure size 1008x432 with 1 Axes>"
      ]
     },
     "metadata": {
      "needs_background": "light"
     },
     "output_type": "display_data"
    }
   ],
   "source": [
    "#checking which state has the highest background checks for firearms\n",
    "myGrpPlot(df,'Location','Time to Close')"
   ]
  },
  {
   "cell_type": "markdown",
   "id": "38529712",
   "metadata": {},
   "source": [
    "The SAO LUIS has the highest average time to close from the four locations"
   ]
  },
  {
   "cell_type": "markdown",
   "id": "fbf84e69",
   "metadata": {},
   "source": [
    "# What is the most cause of the poison?"
   ]
  },
  {
   "cell_type": "code",
   "execution_count": 26,
   "id": "7dcaa299",
   "metadata": {},
   "outputs": [
    {
     "data": {
      "image/png": "[encoded data removed]",
      "text/plain": [
       "<Figure size 1008x432 with 1 Axes>"
      ]
     },
     "metadata": {
      "needs_background": "light"
     },
     "output_type": "display_data"
    }
   ],
   "source": [
    "df.Cause.value_counts().plot(kind='bar',figsize=[14,6])\n",
    "plt.xticks(rotation = 45);"
   ]
  },
  {
   "cell_type": "markdown",
   "id": "3772eab9",
   "metadata": {},
   "source": [
    "It can be deduced from the above analysis that most cause of the poison is not known and the other causes are meat and vegetables."
   ]
  },
  {
   "cell_type": "markdown",
   "id": "86c33c6a",
   "metadata": {},
   "source": [
    "# Correlation between the variables"
   ]
  },
  {
   "cell_type": "code",
   "execution_count": 30,
   "id": "d262bcfa",
   "metadata": {},
   "outputs": [
    {
     "data": {
      "image/png": "[encoded data removed]",
      "text/plain": [
       "<Figure size 720x720 with 2 Axes>"
      ]
     },
     "metadata": {
      "needs_background": "light"
     },
     "output_type": "display_data"
    }
   ],
   "source": [
    "numeric_vars = ['Time to Close', 'Claim Amount', 'Amount Paid']\n",
    "categoric_vars = ['CreditGrade', 'EmploymentStatus']\n",
    "\n",
    "# correlation plot\n",
    "plt.figure(figsize = [10, 10])\n",
    "sns.heatmap(df[numeric_vars].corr(), annot = True, fmt = '.3f',\n",
    "           cmap = 'vlag_r', center = 0)\n",
    "plt.show()"
   ]
  },
  {
   "cell_type": "markdown",
   "id": "5e8bf7ec",
   "metadata": {},
   "source": [
    "It is shown that Claim Amount and Amount paid have a strong positive correlation, Claim Amount and Time to close has a weak negative correlation, Amount paid and Time to close have a weak negative correlation."
   ]
  },
  {
   "cell_type": "markdown",
   "id": "e985d8fa",
   "metadata": {},
   "source": [
    "# Are the most cases linked to other cases?"
   ]
  },
  {
   "cell_type": "code",
   "execution_count": 33,
   "id": "038c2339",
   "metadata": {},
   "outputs": [
    {
     "data": {
      "image/png": "[encoded data removed]",
      "text/plain": [
       "<Figure size 1008x432 with 1 Axes>"
      ]
     },
     "metadata": {},
     "output_type": "display_data"
    }
   ],
   "source": [
    "df['Linked Cases'].value_counts().plot(kind='pie',figsize=[14,6]);"
   ]
  },
  {
   "cell_type": "markdown",
   "id": "0d3280cd",
   "metadata": {},
   "source": [
    "It can be concluded from this analysis that most cases are not linked with other cases"
   ]
  },
  {
   "cell_type": "markdown",
   "id": "2614ac63",
   "metadata": {},
   "source": [
    "# Conclusion\n",
    "The dataset comprises of 98 rows and 8 columns. \n",
    "It can be deduced from the analysis that most cases are not linked to another cases.\n",
    "It is shown that Claim Amount and Amount paid have a strong positive correlation, Claim Amount and Time to close has a weak negative correlation, Amount paid and Time to close have a weak negative correlation.\n",
    "It can be deduced from the analysis that most cause of the poison is not known and the other causes are meat and vegetables.\n",
    "The distribution of time to close is right skewed which means the mean is greater than the median and the mode as well. It is also observed that most claim takes 500 days to close.\n",
    "It can be deduced from the above bar chart that SAO LUIS and NATAL have the highest and lowest claims respectively."
   ]
  },
  {
   "cell_type": "code",
   "execution_count": null,
   "id": "867e7bf8",
   "metadata": {},
   "outputs": [],
   "source": []
  }
 ],
 "metadata": {
  "kernelspec": {
   "display_name": "Python 3 (ipykernel)",
   "language": "python",
   "name": "python3"
  },
  "language_info": {
   "codemirror_mode": {
    "name": "ipython",
    "version": 3
   },
   "file_extension": ".py",
   "mimetype": "text/x-python",
   "name": "python",
   "nbconvert_exporter": "python",
   "pygments_lexer": "ipython3",
   "version": "3.9.7"
  }
 },
 "nbformat": 4,
 "nbformat_minor": 5
}
